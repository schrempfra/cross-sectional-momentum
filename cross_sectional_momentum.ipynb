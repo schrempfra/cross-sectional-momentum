{
 "cells": [
  {
   "cell_type": "markdown",
   "metadata": {},
   "source": [
    "# Cross-Sectional Momentum\n",
    "\n",
    "## Concept\n",
    "\n",
    "Pick the top X% performers from a basket of stocks based on past returns (e.g., past 3 or 6 months)\n",
    "\n",
    "How to do it:\n",
    "* Pick 20 tickers (e.g. tech stocks: AAPL, MSFT, NVDA, AMZN, etc.)\n",
    "* For each one, calculate past 3M return\n",
    "* Rank all stocks by 3M return\n",
    "* Buy top 5, short bottom 5 → rebalance monthly\n"
   ]
  },
  {
   "cell_type": "markdown",
   "metadata": {},
   "source": [
    "# Import Libraries"
   ]
  },
  {
   "cell_type": "code",
   "execution_count": 2,
   "metadata": {},
   "outputs": [],
   "source": [
    "import yfinance as yf\n",
    "import pandas as pd"
   ]
  },
  {
   "cell_type": "code",
   "execution_count": null,
   "metadata": {},
   "outputs": [],
   "source": [
    "# Define the list of tickers\n",
    "tickers = ['AAPL', 'MSFT', 'NVDA', 'AMZN', 'GOOGL', 'META', 'TSLA', 'NFLX', 'ADBE', 'INTC', 'CSCO', 'ORCL', 'IBM', 'AMD', 'QCOM', 'TXN', 'MU', 'AVGO', 'CRM', 'PYPL']\n",
    "\n",
    "# Download historical data for the past 3 months\n",
    "data = yf.download(tickers, period='3mo', interval='1d', auto_adjust=False)['Adj Close']\n",
    "\n",
    "# Calculate the 3-month return for each stock\n",
    "returns = data.pct_change(periods=len(data)-1, fill_method=None).iloc[-1]\n",
    "\n",
    "# Rank the stocks by 3-month return\n",
    "ranked_stocks = returns.sort_values(ascending=False)\n",
    "\n",
    "# Select top 5 and bottom 5 stocks without converting them to pandas dataframes\n",
    "top_5 = ranked_stocks.head(5)\n",
    "bottom_5 = ranked_stocks.tail(5)\n",
    "\n",
    "top_5_df = top_5.reset_index()\n",
    "top_5_df.columns = ['Ticker', '3M Return']\n",
    "\n",
    "bottom_5_df = bottom_5.reset_index()\n",
    "bottom_5_df.columns = ['Ticker', '3M Return']\n",
    "\n",
    "#top_5_df\n",
    "bottom_5_df"
   ]
  }
 ],
 "metadata": {
  "kernelspec": {
   "display_name": "base",
   "language": "python",
   "name": "python3"
  },
  "language_info": {
   "codemirror_mode": {
    "name": "ipython",
    "version": 3
   },
   "file_extension": ".py",
   "mimetype": "text/x-python",
   "name": "python",
   "nbconvert_exporter": "python",
   "pygments_lexer": "ipython3",
   "version": "3.12.2"
  }
 },
 "nbformat": 4,
 "nbformat_minor": 2
}
